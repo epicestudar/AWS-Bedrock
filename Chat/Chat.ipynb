{
 "cells": [
  {
   "cell_type": "code",
   "execution_count": 5,
   "id": "2392837b-6bc6-40ea-bcef-0c7124cba309",
   "metadata": {},
   "outputs": [],
   "source": [
    "import boto3\n",
    "from botocore.exceptions import ClientError\n",
    "\n",
    "# Definir as variáveis necessárias\n",
    "model_id = \"meta.llama3-8b-instruct-v1:0\"\n",
    "\n",
    "# Criar o cliente do bedrock runtime\n",
    "bedrock_runtime_client = boto3.client(\"bedrock-runtime\", region_name = 'us-east-1')\n",
    "\n",
    "# Histórico da conversa\n",
    "conversation_history = []\n",
    "\n",
    "\n",
    "# Configurações de inferência\n",
    "inference_config = {\n",
    "    \"maxTokens\": 100,\n",
    "    \"temperature\": 0.1,\n",
    "    \"topP\": 0.75\n",
    "}"
   ]
  },
  {
   "cell_type": "code",
   "execution_count": 6,
   "id": "3eb356a2-8e05-4b27-a9f8-e03ac9e955b8",
   "metadata": {},
   "outputs": [],
   "source": [
    "message = \"Quem é o Pelé?\"\n",
    "role = \"user\"\n",
    "conversation_history.append({\n",
    "    \"role\": role,\n",
    "    \"content\": [{\n",
    "        \"text\": message\n",
    "    }]\n",
    "})"
   ]
  },
  {
   "cell_type": "code",
   "execution_count": 7,
   "id": "2fbe07cc-9c3c-4079-8934-d4321f59f0b1",
   "metadata": {},
   "outputs": [
    {
     "data": {
      "text/plain": [
       "[{'role': 'user', 'content': [{'text': 'Quem é o Pelé?'}]}]"
      ]
     },
     "execution_count": 7,
     "metadata": {},
     "output_type": "execute_result"
    }
   ],
   "source": [
    "conversation_history"
   ]
  },
  {
   "cell_type": "code",
   "execution_count": 8,
   "id": "ee9124e6-8f7e-4e61-97fb-11cfd1696c9e",
   "metadata": {},
   "outputs": [],
   "source": [
    "response = bedrock_runtime_client.converse(\n",
    "    modelId = model_id,\n",
    "    messages = conversation_history,\n",
    "    inferenceConfig = inference_config\n",
    ")"
   ]
  },
  {
   "cell_type": "code",
   "execution_count": 9,
   "id": "b2c8db00-a486-4aa9-9523-f379893fd733",
   "metadata": {},
   "outputs": [
    {
     "data": {
      "text/plain": [
       "{'ResponseMetadata': {'RequestId': 'c4bf62af-032b-4122-8022-347e06ecfa2b',\n",
       "  'HTTPStatusCode': 200,\n",
       "  'HTTPHeaders': {'date': 'Wed, 14 May 2025 17:11:51 GMT',\n",
       "   'content-type': 'application/json',\n",
       "   'content-length': '519',\n",
       "   'connection': 'keep-alive',\n",
       "   'x-amzn-requestid': 'c4bf62af-032b-4122-8022-347e06ecfa2b'},\n",
       "  'RetryAttempts': 0},\n",
       " 'output': {'message': {'role': 'assistant',\n",
       "   'content': [{'text': '\\n\\nPelé é um futebolista brasileiro nascido em Três Corações, Minas Gerais, em 23 de outubro de 1940. Ele é considerado um dos maiores jogadores de futebol de todos os tempos, e é conhecido por sua habilidade, velocidade e habilidade técnica.\\n\\nPelé começou a jogar futebol jovem, ingressando no Santos FC em 1956, aos 15'}]}},\n",
       " 'stopReason': 'max_tokens',\n",
       " 'usage': {'inputTokens': 21, 'outputTokens': 100, 'totalTokens': 121},\n",
       " 'metrics': {'latencyMs': 1098}}"
      ]
     },
     "execution_count": 9,
     "metadata": {},
     "output_type": "execute_result"
    }
   ],
   "source": [
    "response"
   ]
  },
  {
   "cell_type": "code",
   "execution_count": 10,
   "id": "99928ddd-bb76-4506-827d-13a92b963ee6",
   "metadata": {},
   "outputs": [
    {
     "name": "stdout",
     "output_type": "stream",
     "text": [
      "\n",
      "\n",
      "Pelé é um futebolista brasileiro nascido em Três Corações, Minas Gerais, em 23 de outubro de 1940. Ele é considerado um dos maiores jogadores de futebol de todos os tempos, e é conhecido por sua habilidade, velocidade e habilidade técnica.\n",
      "\n",
      "Pelé começou a jogar futebol jovem, ingressando no Santos FC em 1956, aos 15\n"
     ]
    }
   ],
   "source": [
    "model_response = response['output']['message']['content'][0]['text']\n",
    "print(model_response)"
   ]
  },
  {
   "cell_type": "code",
   "execution_count": 11,
   "id": "63c271e5-2461-4a00-b0b0-72ab9e37c32f",
   "metadata": {},
   "outputs": [],
   "source": [
    "role = \"assistant\"\n",
    "conversation_history.append({\n",
    "    \"role\": role,\n",
    "    \"content\": [{\"text\": model_response}]\n",
    "})"
   ]
  },
  {
   "cell_type": "code",
   "execution_count": 12,
   "id": "aa64ae80-c727-4004-b088-9646f6ef2b5d",
   "metadata": {},
   "outputs": [
    {
     "data": {
      "text/plain": [
       "[{'role': 'user', 'content': [{'text': 'Quem é o Pelé?'}]},\n",
       " {'role': 'assistant',\n",
       "  'content': [{'text': '\\n\\nPelé é um futebolista brasileiro nascido em Três Corações, Minas Gerais, em 23 de outubro de 1940. Ele é considerado um dos maiores jogadores de futebol de todos os tempos, e é conhecido por sua habilidade, velocidade e habilidade técnica.\\n\\nPelé começou a jogar futebol jovem, ingressando no Santos FC em 1956, aos 15'}]}]"
      ]
     },
     "execution_count": 12,
     "metadata": {},
     "output_type": "execute_result"
    }
   ],
   "source": [
    "conversation_history"
   ]
  },
  {
   "cell_type": "code",
   "execution_count": 13,
   "id": "66769965-b175-493a-b3da-cb0fa5113e96",
   "metadata": {},
   "outputs": [
    {
     "name": "stdout",
     "output_type": "stream",
     "text": [
      "\n",
      "\n",
      "Pelé jogou em dois times principais durante sua carreira:\n",
      "\n",
      "1. Santos FC (1956-1974): Pelé começou sua carreira no Santos FC, um time brasileiro, em 1956, aos 15 anos. Ele jogou pelo Santos por 18 anos, até 1974, e conquistou 19 títulos, incluindo dois Campeonatos Brasileiros e três Copas Libertadores.\n",
      "2. New York Cosmos (197\n"
     ]
    }
   ],
   "source": [
    "message = \"Em qual time ele jogou?\"\n",
    "role = \"user\"\n",
    "conversation_history.append({\n",
    "    \"role\": role,\n",
    "    \"content\": [{\n",
    "        \"text\": message\n",
    "    }]\n",
    "})\n",
    "\n",
    "response = bedrock_runtime_client.converse(\n",
    "    modelId = model_id,\n",
    "    messages = conversation_history,\n",
    "    inferenceConfig = inference_config\n",
    ")\n",
    "\n",
    "model_response = response['output']['message']['content'][0]['text']\n",
    "print(model_response)"
   ]
  },
  {
   "cell_type": "code",
   "execution_count": 14,
   "id": "aa9c9107-66c5-42c5-bc88-dacc817a6493",
   "metadata": {},
   "outputs": [],
   "source": [
    "role = \"assistant\"\n",
    "conversation_history.append({\n",
    "    \"role\": role,\n",
    "    \"content\": [{\"text\": model_response}]\n",
    "})"
   ]
  },
  {
   "cell_type": "code",
   "execution_count": 15,
   "id": "b35791fa-a826-4d81-9d69-5f05c798c816",
   "metadata": {},
   "outputs": [
    {
     "data": {
      "text/plain": [
       "[{'role': 'user', 'content': [{'text': 'Quem é o Pelé?'}]},\n",
       " {'role': 'assistant',\n",
       "  'content': [{'text': '\\n\\nPelé é um futebolista brasileiro nascido em Três Corações, Minas Gerais, em 23 de outubro de 1940. Ele é considerado um dos maiores jogadores de futebol de todos os tempos, e é conhecido por sua habilidade, velocidade e habilidade técnica.\\n\\nPelé começou a jogar futebol jovem, ingressando no Santos FC em 1956, aos 15'}]},\n",
       " {'role': 'user', 'content': [{'text': 'Em qual time ele jogou?'}]},\n",
       " {'role': 'assistant',\n",
       "  'content': [{'text': '\\n\\nPelé jogou em dois times principais durante sua carreira:\\n\\n1. Santos FC (1956-1974): Pelé começou sua carreira no Santos FC, um time brasileiro, em 1956, aos 15 anos. Ele jogou pelo Santos por 18 anos, até 1974, e conquistou 19 títulos, incluindo dois Campeonatos Brasileiros e três Copas Libertadores.\\n2. New York Cosmos (197'}]}]"
      ]
     },
     "execution_count": 15,
     "metadata": {},
     "output_type": "execute_result"
    }
   ],
   "source": [
    "conversation_history"
   ]
  },
  {
   "cell_type": "code",
   "execution_count": null,
   "id": "185c4c66-6eba-4f11-97f5-433c84c8235e",
   "metadata": {},
   "outputs": [],
   "source": []
  }
 ],
 "metadata": {
  "kernelspec": {
   "display_name": "Python 3 (ipykernel)",
   "language": "python",
   "name": "python3"
  },
  "language_info": {
   "codemirror_mode": {
    "name": "ipython",
    "version": 3
   },
   "file_extension": ".py",
   "mimetype": "text/x-python",
   "name": "python",
   "nbconvert_exporter": "python",
   "pygments_lexer": "ipython3",
   "version": "3.12.3"
  }
 },
 "nbformat": 4,
 "nbformat_minor": 5
}
