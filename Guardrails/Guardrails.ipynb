{
 "cells": [
  {
   "cell_type": "code",
   "execution_count": 1,
   "id": "57bbefbd-4ba2-4cb7-874e-63e5c5d84134",
   "metadata": {},
   "outputs": [],
   "source": [
    "import boto3"
   ]
  },
  {
   "cell_type": "code",
   "execution_count": 2,
   "id": "3bcee00e-b4b5-4586-87a5-5337667d2bde",
   "metadata": {},
   "outputs": [],
   "source": [
    "bedrock_runtime_client = boto3.client('bedrock-runtime', region_name = 'us-east-1')"
   ]
  },
  {
   "cell_type": "code",
   "execution_count": 3,
   "id": "f91e2706-445a-45a6-81a5-c9fdaee82edf",
   "metadata": {},
   "outputs": [],
   "source": [
    "guardrail_id = 'tjatls7le7rr'"
   ]
  },
  {
   "cell_type": "code",
   "execution_count": 4,
   "id": "8942204b-f948-46ce-bacf-e788c8bff15c",
   "metadata": {},
   "outputs": [],
   "source": [
    "guardrail_version = 'DRAFT'"
   ]
  },
  {
   "cell_type": "code",
   "execution_count": 7,
   "id": "7060a8f3-77e5-4d2f-a8c0-51535571087e",
   "metadata": {},
   "outputs": [],
   "source": [
    "response1 = bedrock_runtime_client.apply_guardrail(\n",
    "    guardrailIdentifier=guardrail_id,\n",
    "    guardrailVersion=guardrail_version,\n",
    "    source='INPUT',\n",
    "    content=[\n",
    "        {\n",
    "            'text': {\n",
    "                'text': \"Who is Michael Phelps?\"\n",
    "            }\n",
    "        }\n",
    "    ]\n",
    ")\n",
    "\n"
   ]
  },
  {
   "cell_type": "code",
   "execution_count": 8,
   "id": "d4106452-28ef-4fbc-9f10-796579d44b8d",
   "metadata": {},
   "outputs": [],
   "source": [
    "response2 = bedrock_runtime_client.apply_guardrail(\n",
    "    guardrailIdentifier = guardrail_id,\n",
    "    guardrailVersion = guardrail_version,\n",
    "    source = 'INPUT',\n",
    "    content = [\n",
    "        {\n",
    "            'text': {\n",
    "                'text': \"Who is Pelé?\"\n",
    "            }\n",
    "        }\n",
    "    ]\n",
    ")"
   ]
  },
  {
   "cell_type": "code",
   "execution_count": 9,
   "id": "1fa39667-504e-4c98-a5ef-6d81be2de19b",
   "metadata": {},
   "outputs": [],
   "source": [
    "import json\n",
    "\n",
    "with open(\"results1.json\", 'w', encoding = 'utf-8') as json_file:\n",
    "    json.dump(response1, json_file, ensure_ascii = False, indent = 4)\n",
    "\n",
    "with open(\"results2.json\", 'w', encoding = 'utf-8') as json_file:\n",
    "    json.dump(response2, json_file, ensure_ascii = False, indent = 4)"
   ]
  },
  {
   "cell_type": "code",
   "execution_count": null,
   "id": "c0c627f8-3e01-43fb-8bc5-9420f3e418eb",
   "metadata": {},
   "outputs": [],
   "source": []
  }
 ],
 "metadata": {
  "kernelspec": {
   "display_name": "Python 3 (ipykernel)",
   "language": "python",
   "name": "python3"
  },
  "language_info": {
   "codemirror_mode": {
    "name": "ipython",
    "version": 3
   },
   "file_extension": ".py",
   "mimetype": "text/x-python",
   "name": "python",
   "nbconvert_exporter": "python",
   "pygments_lexer": "ipython3",
   "version": "3.12.3"
  }
 },
 "nbformat": 4,
 "nbformat_minor": 5
}
