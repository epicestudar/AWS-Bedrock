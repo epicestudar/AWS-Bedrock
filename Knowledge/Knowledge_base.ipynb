{
 "cells": [
  {
   "cell_type": "code",
   "execution_count": 8,
   "id": "0b7a0010-38b3-470f-84f7-4c2b1df67265",
   "metadata": {},
   "outputs": [],
   "source": [
    "import boto3"
   ]
  },
  {
   "cell_type": "code",
   "execution_count": 9,
   "id": "1ad0a3ae-8321-45e0-94e6-1782bf5c6c37",
   "metadata": {},
   "outputs": [],
   "source": [
    "# inicializa o client do boto3\n",
    "bedrock_agent_runtime_client = boto3.client('bedrock-agent-runtime', region_name = 'us-east-1')"
   ]
  },
  {
   "cell_type": "code",
   "execution_count": 10,
   "id": "738ccc19-fb91-47b4-801a-6f04412042a3",
   "metadata": {},
   "outputs": [],
   "source": [
    "# definição de variáveis\n",
    "knowledge_base_id = \"D1CSD5TUVH\"\n",
    "\n",
    "number_of_results = 3\n",
    "\n",
    "query = \"Who is Alicia Torrence?\""
   ]
  },
  {
   "cell_type": "code",
   "execution_count": 12,
   "id": "988c1ae7-afa4-4888-a90f-3692da21f503",
   "metadata": {},
   "outputs": [],
   "source": [
    "# invoca a API para acessar o knowledge base\n",
    "response = bedrock_agent_runtime_client.retrieve(\n",
    "    knowledgeBaseId = knowledge_base_id,\n",
    "    retrievalQuery = {'text': query},\n",
    "    retrievalConfiguration = {\n",
    "      'vectorSearchConfiguration': {\n",
    "          'numberOfResults': number_of_results\n",
    "      }  \n",
    "    }\n",
    ")"
   ]
  },
  {
   "cell_type": "code",
   "execution_count": 14,
   "id": "c01eeceb-b4b2-4861-81df-d1a3284289ab",
   "metadata": {},
   "outputs": [],
   "source": [
    "# salva em arquivo JSON\n",
    "import json\n",
    "\n",
    "with open(\"results.json\", 'w', encoding = 'utf-8') as json_file:\n",
    "    json.dump(response, json_file, ensure_ascii = False, indent = 4)\n"
   ]
  },
  {
   "cell_type": "code",
   "execution_count": null,
   "id": "e9c4cedd-6fc6-4e5e-9681-6983198fdccc",
   "metadata": {},
   "outputs": [],
   "source": []
  }
 ],
 "metadata": {
  "kernelspec": {
   "display_name": "Python 3 (ipykernel)",
   "language": "python",
   "name": "python3"
  },
  "language_info": {
   "codemirror_mode": {
    "name": "ipython",
    "version": 3
   },
   "file_extension": ".py",
   "mimetype": "text/x-python",
   "name": "python",
   "nbconvert_exporter": "python",
   "pygments_lexer": "ipython3",
   "version": "3.12.3"
  }
 },
 "nbformat": 4,
 "nbformat_minor": 5
}
