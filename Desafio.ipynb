{
 "cells": [
  {
   "cell_type": "code",
   "execution_count": 1,
   "id": "0dbed9ee-029e-449d-9fa3-a2dac75abbdf",
   "metadata": {},
   "outputs": [],
   "source": [
    "import boto3\n",
    "from botocore.exceptions import ClientError\n",
    "\n",
    "# Definir as variáveis necessárias\n",
    "model_id = \"meta.llama3-8b-instruct-v1:0\"\n",
    "\n",
    "# Criar o cliente do bedrock runtime\n",
    "bedrock_runtime_client = boto3.client(\"bedrock-runtime\", region_name = 'us-east-1')\n",
    "\n",
    "# Histórico da conversa\n",
    "conversation_history = []\n",
    "\n",
    "\n",
    "# Configurações de inferência\n",
    "inference_config = {\n",
    "    \"maxTokens\": 100,\n",
    "    \"temperature\": 0.1,\n",
    "    \"topP\": 0.75\n",
    "}"
   ]
  },
  {
   "cell_type": "code",
   "execution_count": 7,
   "id": "529c927d-f93a-4b14-8b67-8eb64d34c93e",
   "metadata": {},
   "outputs": [
    {
     "name": "stdout",
     "output_type": "stream",
     "text": [
      "\n",
      "Menu\n",
      "1) Ask a question\n",
      "2) Exit\n"
     ]
    },
    {
     "name": "stdin",
     "output_type": "stream",
     "text": [
      "Enter your choice (1 or 2):  1\n",
      "Enter your question:  Qual é a população dessa cidade?\n"
     ]
    },
    {
     "name": "stdout",
     "output_type": "stream",
     "text": [
      "Model response:  \n",
      "\n",
      "\n",
      "\n",
      "A população do Brasil é de aproximadamente 213 milhões de habitantes, e não é a população da cidade de Brasília que eu mencionei anteriormente. A população do Brasil é a soma de todas as cidades e regiões do país.\n",
      "\n",
      "Menu\n",
      "1) Ask a question\n",
      "2) Exit\n"
     ]
    },
    {
     "name": "stdin",
     "output_type": "stream",
     "text": [
      "Enter your choice (1 or 2):  2\n"
     ]
    },
    {
     "name": "stdout",
     "output_type": "stream",
     "text": [
      "Exiting conversation mode. Returning to main menu.\n"
     ]
    }
   ],
   "source": [
    "while True:\n",
    "    print(\"\\nMenu\")\n",
    "    print(\"1) Ask a question\")\n",
    "    print(\"2) Exit\")\n",
    "    user_choice = input(\"Enter your choice (1 or 2): \")\n",
    "    if user_choice == \"1\":\n",
    "        try:\n",
    "            message = input(\"Enter your question: \")\n",
    "\n",
    "            role = \"user\"\n",
    "            conversation_history.append({\n",
    "                \"role\": role,\n",
    "                \"content\": [{\n",
    "                    \"text\": message\n",
    "                }]\n",
    "            })\n",
    "\n",
    "            response = bedrock_runtime_client.converse(\n",
    "            modelId = model_id,\n",
    "            messages = conversation_history,\n",
    "            inferenceConfig = inference_config\n",
    "            )\n",
    "\n",
    "            model_response = response['output']['message']['content'][0]['text']\n",
    "            print(\"Model response: \", model_response)\n",
    "\n",
    "            role = \"assistant\"\n",
    "            conversation_history.append({\n",
    "                \"role\": role,\n",
    "                \"content\": [{\"text\": model_response}]\n",
    "            })\n",
    "\n",
    "        except(ClientError, Exception) as error:\n",
    "            print(f\"ERROR: Failed to interact with the model. Details: {error}\")\n",
    "    elif user_choice == \"2\":\n",
    "        print(\"Exiting conversation mode. Returning to main menu.\")\n",
    "        break\n",
    "    else:\n",
    "        print(\"Invalid input. Choice 1 or 2.\")"
   ]
  },
  {
   "cell_type": "code",
   "execution_count": null,
   "id": "62d836d7-77d6-490c-959c-134b48b2a075",
   "metadata": {},
   "outputs": [],
   "source": []
  }
 ],
 "metadata": {
  "kernelspec": {
   "display_name": "Python 3 (ipykernel)",
   "language": "python",
   "name": "python3"
  },
  "language_info": {
   "codemirror_mode": {
    "name": "ipython",
    "version": 3
   },
   "file_extension": ".py",
   "mimetype": "text/x-python",
   "name": "python",
   "nbconvert_exporter": "python",
   "pygments_lexer": "ipython3",
   "version": "3.12.3"
  }
 },
 "nbformat": 4,
 "nbformat_minor": 5
}
